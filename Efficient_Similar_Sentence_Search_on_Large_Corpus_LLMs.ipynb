{
  "nbformat": 4,
  "nbformat_minor": 0,
  "metadata": {
    "colab": {
      "provenance": [],
      "authorship_tag": "ABX9TyMvxetxel1vtXTIAk2+l70G",
      "include_colab_link": true
    },
    "kernelspec": {
      "name": "python3",
      "display_name": "Python 3"
    },
    "language_info": {
      "name": "python"
    }
  },
  "cells": [
    {
      "cell_type": "markdown",
      "metadata": {
        "id": "view-in-github",
        "colab_type": "text"
      },
      "source": [
        "<a href=\"https://colab.research.google.com/github/elvinagam/efficient-sentence-search-llms/blob/main/Efficient_Similar_Sentence_Search_on_Large_Corpus_LLMs.ipynb\" target=\"_parent\"><img src=\"https://colab.research.google.com/assets/colab-badge.svg\" alt=\"Open In Colab\"/></a>"
      ]
    },
    {
      "cell_type": "markdown",
      "source": [
        "## Imports"
      ],
      "metadata": {
        "id": "o2hYrVC0Yf1X"
      }
    },
    {
      "cell_type": "code",
      "source": [
        "!pip install bitarray mmh3 datasketch pybloom_live"
      ],
      "metadata": {
        "colab": {
          "base_uri": "https://localhost:8080/"
        },
        "id": "7Inox1Ry2URC",
        "outputId": "834f9361-9006-40b6-86de-28121959dac4"
      },
      "execution_count": 4,
      "outputs": [
        {
          "output_type": "stream",
          "name": "stdout",
          "text": [
            "Looking in indexes: https://pypi.org/simple, https://us-python.pkg.dev/colab-wheels/public/simple/\n",
            "Collecting bitarray\n",
            "  Downloading bitarray-2.7.3-cp310-cp310-manylinux_2_17_x86_64.manylinux2014_x86_64.whl (272 kB)\n",
            "\u001b[2K     \u001b[90m━━━━━━━━━━━━━━━━━━━━━━━━━━━━━━━━━━━━━━━\u001b[0m \u001b[32m272.7/272.7 kB\u001b[0m \u001b[31m6.9 MB/s\u001b[0m eta \u001b[36m0:00:00\u001b[0m\n",
            "\u001b[?25hCollecting mmh3\n",
            "  Downloading mmh3-4.0.0-cp310-cp310-manylinux_2_5_x86_64.manylinux1_x86_64.manylinux_2_17_x86_64.manylinux2014_x86_64.whl (68 kB)\n",
            "\u001b[2K     \u001b[90m━━━━━━━━━━━━━━━━━━━━━━━━━━━━━━━━━━━━━━━━\u001b[0m \u001b[32m68.0/68.0 kB\u001b[0m \u001b[31m6.2 MB/s\u001b[0m eta \u001b[36m0:00:00\u001b[0m\n",
            "\u001b[?25hInstalling collected packages: mmh3, bitarray\n",
            "Successfully installed bitarray-2.7.3 mmh3-4.0.0\n"
          ]
        }
      ]
    },
    {
      "cell_type": "code",
      "source": [
        "text = \"\"\"Once upon a time, there was a beautiful princess who lived in a grand castle. She had everything she could ever want: a loving family, loyal friends, and a kingdom to rule. But the princess was not happy. She longed for adventure and excitement. One day, a handsome prince came to the castle. He was everything the princess had ever dreamed of: brave, strong, and kind. The princess and the prince fell in love and were soon married.\n",
        "\n",
        "After the wedding, the prince and princess set off on a journey to explore the world. They traveled to far-off lands and met all sorts of interesting people. They had many adventures along the way, including battling dragons, rescuing damsels in distress, and finding lost treasures. Throughout their travels, the prince and princess grew closer and closer. They learned to trust each other and rely on each other. They also learned to love each other more and more each day.\n",
        "\n",
        "One day, the prince and princess came to a dark and dangerous forest. They knew they had to be careful, but they were determined to find their way through. As they walked through the forest, they heard a noise. They turned around and saw a group of bandits approaching them. The bandits were armed with swords and axes. They were clearly not friendly. The prince and princess knew they had to fight back. They drew their swords and prepared to defend themselves.\n",
        "\n",
        "The battle was long and hard. The prince and princess fought bravely, but they were outnumbered. Just when it seemed like all hope was lost, a group of knights arrived to help them. The knights were able to defeat the bandits, and the prince and princess were safe. The prince and princess were grateful to the knights for saving their lives. They thanked the knights and continued on their journey. After many more adventures, the prince and princess finally returned home. They were greeted by their families and friends, who were overjoyed to see them. The prince and princess told their stories of their adventures, and everyone was amazed.\n",
        "\n",
        "The prince and princess lived happily ever after. They ruled their kingdom wisely and justly, and they were loved by all their subjects.\n",
        "\n",
        "Here are some similar and duplicate senten\"\"\""
      ],
      "metadata": {
        "id": "x4csOqhG4FPC"
      },
      "execution_count": 10,
      "outputs": []
    },
    {
      "cell_type": "code",
      "source": [
        "import re\n",
        "import difflib\n",
        "from datasketch import MinHash, MinHashLSH\n",
        "from pybloom_live import ScalableBloomFilter"
      ],
      "metadata": {
        "id": "jxFnDe10Yqit"
      },
      "execution_count": null,
      "outputs": []
    },
    {
      "cell_type": "code",
      "source": [
        "# Function to preprocess the text\n",
        "def preprocess_text(text):\n",
        "    text = re.sub(r'\\W+', ' ', text.lower())\n",
        "    return text.strip()\n",
        "\n",
        "# Function to find similar sentences using SequenceMatcher\n",
        "def find_similar_sentences(sentences):\n",
        "    similar_sentences = []\n",
        "\n",
        "    for i in range(len(sentences)):\n",
        "        for j in range(i+1, len(sentences)):\n",
        "            seq_matcher = difflib.SequenceMatcher(None, sentences[i], sentences[j])\n",
        "            similarity_ratio = seq_matcher.ratio()\n",
        "            if similarity_ratio >= 0.8:\n",
        "                pair = (sentences[i], sentences[j])\n",
        "                similar_sentences.append(pair)\n",
        "\n",
        "    return similar_sentences"
      ],
      "metadata": {
        "id": "wsxSglQPYvB7"
      },
      "execution_count": null,
      "outputs": []
    },
    {
      "cell_type": "code",
      "source": [
        "# Function to generate MinHash signatures for sentences\n",
        "def generate_minhash_signature(sentence):\n",
        "    tokens = sentence.split()\n",
        "    minhash = MinHash(num_perm=128)\n",
        "    for token in tokens:\n",
        "        minhash.update(token.encode('utf-8'))\n",
        "    return minhash"
      ],
      "metadata": {
        "id": "HGlJzIE_YyUd"
      },
      "execution_count": null,
      "outputs": []
    },
    {
      "cell_type": "code",
      "source": [
        "# Function to find duplicate sentences\n",
        "def find_duplicate_sentences(sentences):\n",
        "    duplicate_sentences = []\n",
        "    duplicates_bloom = ScalableBloomFilter()\n",
        "\n",
        "    for sentence in sentences:\n",
        "        sentence = preprocess_text(sentence)\n",
        "        if sentence in duplicates_bloom:\n",
        "            duplicate_sentences.append(sentence)\n",
        "        else:\n",
        "            duplicates_bloom.add(sentence)\n",
        "\n",
        "    return duplicate_sentences"
      ],
      "metadata": {
        "id": "VRPQJXt4Y3gb"
      },
      "execution_count": null,
      "outputs": []
    },
    {
      "cell_type": "code",
      "source": [
        "# Function to find similar and duplicate sentences\n",
        "def find_similar_duplicates(sentences):\n",
        "    similar_sentences = find_similar_sentences(sentences)\n",
        "    duplicate_sentences = find_duplicate_sentences(sentences)\n",
        "\n",
        "    return similar_sentences, duplicate_sentences"
      ],
      "metadata": {
        "id": "qLkxnV1LY70x"
      },
      "execution_count": null,
      "outputs": []
    },
    {
      "cell_type": "code",
      "source": [
        "# Example sentences\n",
        "sentences = [\n",
        "    \"The cat is sitting on the mat.\",\n",
        "    \"The dog is playing in the garden.\",\n",
        "    \"The cat is lying on the mat.\",\n",
        "    \"A bird is flying in the sky.\",\n",
        "    \"The dog is chasing its tail.\",\n",
        "    \"The cat is sitting on the mat.\",\n",
        "    \"The bird is singing in the tree.\",\n",
        "    \"The cat is sleeping on the mat.\"\n",
        "]\n",
        "\n",
        "# Find similar and duplicate sentences\n",
        "similar_sentences, duplicate_sentences = find_similar_duplicates(sentences)\n",
        "\n",
        "# Print the results\n",
        "print(\"Similar Sentences:\")\n",
        "for pair in similar_sentences:\n",
        "    print(f\"'{pair[0]}' and '{pair[1]}'\")\n",
        "\n",
        "print(\"\\nDuplicate Sentences:\")\n",
        "for sentence in duplicate_sentences:\n",
        "    print(f\"'{sentence}'\")"
      ],
      "metadata": {
        "colab": {
          "base_uri": "https://localhost:8080/"
        },
        "id": "9Birz-cueG5f",
        "outputId": "02cad547-db70-427c-853e-5ad252c820e6"
      },
      "execution_count": 63,
      "outputs": [
        {
          "output_type": "stream",
          "name": "stdout",
          "text": [
            "Similar Sentences:\n",
            "'The cat is sitting on the mat.' and 'The cat is lying on the mat.'\n",
            "'The cat is sitting on the mat.' and 'The cat is sitting on the mat.'\n",
            "'The cat is sitting on the mat.' and 'The cat is sleeping on the mat.'\n",
            "'The cat is lying on the mat.' and 'The cat is sitting on the mat.'\n",
            "'The cat is lying on the mat.' and 'The cat is sleeping on the mat.'\n",
            "'The cat is sitting on the mat.' and 'The cat is sleeping on the mat.'\n",
            "\n",
            "Duplicate Sentences:\n",
            "'the cat is sitting on the mat'\n"
          ]
        }
      ]
    },
    {
      "cell_type": "markdown",
      "source": [
        "## Without libs"
      ],
      "metadata": {
        "id": "xuyIU6p2htJM"
      }
    },
    {
      "cell_type": "code",
      "source": [
        "import re\n",
        "import nltk\n",
        "import numpy as np\n",
        "from sklearn.feature_extraction.text import HashingVectorizer\n",
        "from datasketch import MinHash, MinHashLSH\n",
        "\n",
        "# Function to preprocess the text\n",
        "def preprocess_text(text):\n",
        "    text = re.sub(r'\\W+', ' ', text.lower())\n",
        "    return text.strip()"
      ],
      "metadata": {
        "id": "GhKOsyBRZXKi"
      },
      "execution_count": null,
      "outputs": []
    },
    {
      "cell_type": "code",
      "source": [
        "# Function to generate MinHash signatures for sentences\n",
        "def generate_minhash_signature(sentence):\n",
        "    tokens = nltk.word_tokenize(sentence)\n",
        "    minhash = MinHash(num_perm=128)\n",
        "    for token in tokens:\n",
        "        minhash.update(token.encode('utf-8'))\n",
        "    return minhash"
      ],
      "metadata": {
        "id": "CZ1CWnKyZalH"
      },
      "execution_count": null,
      "outputs": []
    },
    {
      "cell_type": "code",
      "source": [
        "# Function to find similar and duplicate sentences\n",
        "def find_similar_duplicates(sentences):\n",
        "    vectorizer = HashingVectorizer(norm=None, alternate_sign=False)\n",
        "    sentence_vectors = vectorizer.transform(sentences)\n",
        "\n",
        "    minhashes = []\n",
        "    for sentence in sentences:\n",
        "        minhash = generate_minhash_signature(sentence)\n",
        "        minhashes.append(minhash)\n",
        "\n",
        "    lsh = MinHashLSH(threshold=0.5, num_perm=128)\n",
        "    for i, minhash in enumerate(minhashes):\n",
        "        lsh.insert(i, minhash)\n",
        "\n",
        "    similar_sentences = []\n",
        "    duplicate_sentences = []\n",
        "\n",
        "    for i, minhash in enumerate(minhashes):\n",
        "        candidates = lsh.query(minhash)\n",
        "        for candidate in candidates:\n",
        "            if i != candidate:\n",
        "                similarity = minhash.jaccard(minhashes[candidate])\n",
        "                if similarity >= 0.8:  # Adjust the threshold as per your requirement\n",
        "                    pair = (sentences[i], sentences[candidate])\n",
        "                    if pair not in similar_sentences and pair not in duplicate_sentences:\n",
        "                        duplicate_sentences.append(pair)\n",
        "                else:\n",
        "                    pair = (sentences[i], sentences[candidate])\n",
        "                    if pair not in similar_sentences and pair not in duplicate_sentences:\n",
        "                        similar_sentences.append(pair)\n",
        "\n",
        "    return similar_sentences, duplicate_sentences"
      ],
      "metadata": {
        "id": "8-gX_d-AZekV"
      },
      "execution_count": null,
      "outputs": []
    },
    {
      "cell_type": "code",
      "source": [
        "# Example sentences\n",
        "sentences = [\n",
        "\"The cat is sitting on the mat.\",\n",
        "    \"The dog is playing in the garden.\",\n",
        "    \"The cat is lying on the mat.\",\n",
        "    \"A bird is flying in the sky.\",\n",
        "    \"The dog is chasing its tail.\",\n",
        "    \"The cat is sitting on the mat.\",\n",
        "    \"The bird is singing in the tree.\",\n",
        "    \"The cat is sleeping on the mat.\"\n",
        "]\n",
        "\n",
        "# sentences = text.split(\". \")\n",
        "\n",
        "# Preprocess sentences\n",
        "preprocessed_sentences = [preprocess_text(sentence) for sentence in sentences]\n",
        "\n",
        "# Find similar and duplicate sentences\n",
        "similar_sentences, duplicate_sentences = find_similar_duplicates(preprocessed_sentences)\n",
        "\n",
        "# Print the results\n",
        "print(\"Similar Sentences:\")\n",
        "for pair in similar_sentences:\n",
        "    print(f\"'{pair[0]}' and '{pair[1]}'\")\n",
        "\n",
        "print(\"\\nDuplicate Sentences:\")\n",
        "for pair in duplicate_sentences:\n",
        "    print(f\"'{pair[0]}' and '{pair[1]}'\")\n"
      ],
      "metadata": {
        "colab": {
          "base_uri": "https://localhost:8080/"
        },
        "id": "WOP-tJsohr1c",
        "outputId": "f9146804-80d1-47c5-8883-a9684f1e5d6e"
      },
      "execution_count": 65,
      "outputs": [
        {
          "output_type": "stream",
          "name": "stdout",
          "text": [
            "Similar Sentences:\n",
            "'the cat is sitting on the mat' and 'the cat is lying on the mat'\n",
            "'the cat is sitting on the mat' and 'the cat is sleeping on the mat'\n",
            "'the cat is lying on the mat' and 'the cat is sitting on the mat'\n",
            "'the cat is lying on the mat' and 'the cat is sleeping on the mat'\n",
            "'the cat is sleeping on the mat' and 'the cat is sitting on the mat'\n",
            "'the cat is sleeping on the mat' and 'the cat is lying on the mat'\n",
            "\n",
            "Duplicate Sentences:\n",
            "'the cat is sitting on the mat' and 'the cat is sitting on the mat'\n"
          ]
        }
      ]
    }
  ]
}